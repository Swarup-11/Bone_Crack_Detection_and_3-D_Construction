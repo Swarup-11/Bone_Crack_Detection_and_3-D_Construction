{
 "cells": [
  {
   "cell_type": "code",
   "execution_count": null,
   "id": "5a001d0e-8bd0-490e-bcd7-01852bab5f6d",
   "metadata": {},
   "outputs": [],
   "source": []
  }
 ],
 "metadata": {
  "kernelspec": {
   "display_name": "",
   "name": ""
  },
  "language_info": {
   "name": ""
  }
 },
 "nbformat": 4,
 "nbformat_minor": 5
}
